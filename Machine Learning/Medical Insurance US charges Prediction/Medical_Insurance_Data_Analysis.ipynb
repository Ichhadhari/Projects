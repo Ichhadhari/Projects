{
  "nbformat": 4,
  "nbformat_minor": 0,
  "metadata": {
    "colab": {
      "provenance": []
    },
    "kernelspec": {
      "name": "python3",
      "display_name": "Python 3"
    },
    "language_info": {
      "name": "python"
    }
  },
  "cells": [
    {
      "cell_type": "code",
      "execution_count": 1,
      "metadata": {
        "id": "colSROSzIbT6"
      },
      "outputs": [],
      "source": [
        "import pandas as pd"
      ]
    },
    {
      "cell_type": "code",
      "source": [
        "data=pd.read_csv('/content/medical_insurance.csv')"
      ],
      "metadata": {
        "id": "yCoikTxHIjXa"
      },
      "execution_count": 2,
      "outputs": []
    },
    {
      "cell_type": "code",
      "source": [
        "data"
      ],
      "metadata": {
        "colab": {
          "base_uri": "https://localhost:8080/",
          "height": 424
        },
        "id": "Rsl06P2cIxAf",
        "outputId": "fc6e0808-a043-4656-983d-731b9d25f5c5"
      },
      "execution_count": 3,
      "outputs": [
        {
          "output_type": "execute_result",
          "data": {
            "text/plain": [
              "      age     sex     bmi  children smoker     region      charges\n",
              "0      19  female  27.900         0    yes  southwest  16884.92400\n",
              "1      18    male  33.770         1     no  southeast   1725.55230\n",
              "2      28    male  33.000         3     no  southeast   4449.46200\n",
              "3      33    male  22.705         0     no  northwest  21984.47061\n",
              "4      32    male  28.880         0     no  northwest   3866.85520\n",
              "...   ...     ...     ...       ...    ...        ...          ...\n",
              "1333   50    male  30.970         3     no  northwest  10600.54830\n",
              "1334   18  female  31.920         0     no  northeast   2205.98080\n",
              "1335   18  female  36.850         0     no  southeast   1629.83350\n",
              "1336   21  female  25.800         0     no  southwest   2007.94500\n",
              "1337   61  female  29.070         0    yes  northwest  29141.36030\n",
              "\n",
              "[1338 rows x 7 columns]"
            ],
            "text/html": [
              "\n",
              "  <div id=\"df-d85341e3-1e7f-40fa-9e36-3ab21eac658b\">\n",
              "    <div class=\"colab-df-container\">\n",
              "      <div>\n",
              "<style scoped>\n",
              "    .dataframe tbody tr th:only-of-type {\n",
              "        vertical-align: middle;\n",
              "    }\n",
              "\n",
              "    .dataframe tbody tr th {\n",
              "        vertical-align: top;\n",
              "    }\n",
              "\n",
              "    .dataframe thead th {\n",
              "        text-align: right;\n",
              "    }\n",
              "</style>\n",
              "<table border=\"1\" class=\"dataframe\">\n",
              "  <thead>\n",
              "    <tr style=\"text-align: right;\">\n",
              "      <th></th>\n",
              "      <th>age</th>\n",
              "      <th>sex</th>\n",
              "      <th>bmi</th>\n",
              "      <th>children</th>\n",
              "      <th>smoker</th>\n",
              "      <th>region</th>\n",
              "      <th>charges</th>\n",
              "    </tr>\n",
              "  </thead>\n",
              "  <tbody>\n",
              "    <tr>\n",
              "      <th>0</th>\n",
              "      <td>19</td>\n",
              "      <td>female</td>\n",
              "      <td>27.900</td>\n",
              "      <td>0</td>\n",
              "      <td>yes</td>\n",
              "      <td>southwest</td>\n",
              "      <td>16884.92400</td>\n",
              "    </tr>\n",
              "    <tr>\n",
              "      <th>1</th>\n",
              "      <td>18</td>\n",
              "      <td>male</td>\n",
              "      <td>33.770</td>\n",
              "      <td>1</td>\n",
              "      <td>no</td>\n",
              "      <td>southeast</td>\n",
              "      <td>1725.55230</td>\n",
              "    </tr>\n",
              "    <tr>\n",
              "      <th>2</th>\n",
              "      <td>28</td>\n",
              "      <td>male</td>\n",
              "      <td>33.000</td>\n",
              "      <td>3</td>\n",
              "      <td>no</td>\n",
              "      <td>southeast</td>\n",
              "      <td>4449.46200</td>\n",
              "    </tr>\n",
              "    <tr>\n",
              "      <th>3</th>\n",
              "      <td>33</td>\n",
              "      <td>male</td>\n",
              "      <td>22.705</td>\n",
              "      <td>0</td>\n",
              "      <td>no</td>\n",
              "      <td>northwest</td>\n",
              "      <td>21984.47061</td>\n",
              "    </tr>\n",
              "    <tr>\n",
              "      <th>4</th>\n",
              "      <td>32</td>\n",
              "      <td>male</td>\n",
              "      <td>28.880</td>\n",
              "      <td>0</td>\n",
              "      <td>no</td>\n",
              "      <td>northwest</td>\n",
              "      <td>3866.85520</td>\n",
              "    </tr>\n",
              "    <tr>\n",
              "      <th>...</th>\n",
              "      <td>...</td>\n",
              "      <td>...</td>\n",
              "      <td>...</td>\n",
              "      <td>...</td>\n",
              "      <td>...</td>\n",
              "      <td>...</td>\n",
              "      <td>...</td>\n",
              "    </tr>\n",
              "    <tr>\n",
              "      <th>1333</th>\n",
              "      <td>50</td>\n",
              "      <td>male</td>\n",
              "      <td>30.970</td>\n",
              "      <td>3</td>\n",
              "      <td>no</td>\n",
              "      <td>northwest</td>\n",
              "      <td>10600.54830</td>\n",
              "    </tr>\n",
              "    <tr>\n",
              "      <th>1334</th>\n",
              "      <td>18</td>\n",
              "      <td>female</td>\n",
              "      <td>31.920</td>\n",
              "      <td>0</td>\n",
              "      <td>no</td>\n",
              "      <td>northeast</td>\n",
              "      <td>2205.98080</td>\n",
              "    </tr>\n",
              "    <tr>\n",
              "      <th>1335</th>\n",
              "      <td>18</td>\n",
              "      <td>female</td>\n",
              "      <td>36.850</td>\n",
              "      <td>0</td>\n",
              "      <td>no</td>\n",
              "      <td>southeast</td>\n",
              "      <td>1629.83350</td>\n",
              "    </tr>\n",
              "    <tr>\n",
              "      <th>1336</th>\n",
              "      <td>21</td>\n",
              "      <td>female</td>\n",
              "      <td>25.800</td>\n",
              "      <td>0</td>\n",
              "      <td>no</td>\n",
              "      <td>southwest</td>\n",
              "      <td>2007.94500</td>\n",
              "    </tr>\n",
              "    <tr>\n",
              "      <th>1337</th>\n",
              "      <td>61</td>\n",
              "      <td>female</td>\n",
              "      <td>29.070</td>\n",
              "      <td>0</td>\n",
              "      <td>yes</td>\n",
              "      <td>northwest</td>\n",
              "      <td>29141.36030</td>\n",
              "    </tr>\n",
              "  </tbody>\n",
              "</table>\n",
              "<p>1338 rows × 7 columns</p>\n",
              "</div>\n",
              "      <button class=\"colab-df-convert\" onclick=\"convertToInteractive('df-d85341e3-1e7f-40fa-9e36-3ab21eac658b')\"\n",
              "              title=\"Convert this dataframe to an interactive table.\"\n",
              "              style=\"display:none;\">\n",
              "        \n",
              "  <svg xmlns=\"http://www.w3.org/2000/svg\" height=\"24px\"viewBox=\"0 0 24 24\"\n",
              "       width=\"24px\">\n",
              "    <path d=\"M0 0h24v24H0V0z\" fill=\"none\"/>\n",
              "    <path d=\"M18.56 5.44l.94 2.06.94-2.06 2.06-.94-2.06-.94-.94-2.06-.94 2.06-2.06.94zm-11 1L8.5 8.5l.94-2.06 2.06-.94-2.06-.94L8.5 2.5l-.94 2.06-2.06.94zm10 10l.94 2.06.94-2.06 2.06-.94-2.06-.94-.94-2.06-.94 2.06-2.06.94z\"/><path d=\"M17.41 7.96l-1.37-1.37c-.4-.4-.92-.59-1.43-.59-.52 0-1.04.2-1.43.59L10.3 9.45l-7.72 7.72c-.78.78-.78 2.05 0 2.83L4 21.41c.39.39.9.59 1.41.59.51 0 1.02-.2 1.41-.59l7.78-7.78 2.81-2.81c.8-.78.8-2.07 0-2.86zM5.41 20L4 18.59l7.72-7.72 1.47 1.35L5.41 20z\"/>\n",
              "  </svg>\n",
              "      </button>\n",
              "      \n",
              "  <style>\n",
              "    .colab-df-container {\n",
              "      display:flex;\n",
              "      flex-wrap:wrap;\n",
              "      gap: 12px;\n",
              "    }\n",
              "\n",
              "    .colab-df-convert {\n",
              "      background-color: #E8F0FE;\n",
              "      border: none;\n",
              "      border-radius: 50%;\n",
              "      cursor: pointer;\n",
              "      display: none;\n",
              "      fill: #1967D2;\n",
              "      height: 32px;\n",
              "      padding: 0 0 0 0;\n",
              "      width: 32px;\n",
              "    }\n",
              "\n",
              "    .colab-df-convert:hover {\n",
              "      background-color: #E2EBFA;\n",
              "      box-shadow: 0px 1px 2px rgba(60, 64, 67, 0.3), 0px 1px 3px 1px rgba(60, 64, 67, 0.15);\n",
              "      fill: #174EA6;\n",
              "    }\n",
              "\n",
              "    [theme=dark] .colab-df-convert {\n",
              "      background-color: #3B4455;\n",
              "      fill: #D2E3FC;\n",
              "    }\n",
              "\n",
              "    [theme=dark] .colab-df-convert:hover {\n",
              "      background-color: #434B5C;\n",
              "      box-shadow: 0px 1px 3px 1px rgba(0, 0, 0, 0.15);\n",
              "      filter: drop-shadow(0px 1px 2px rgba(0, 0, 0, 0.3));\n",
              "      fill: #FFFFFF;\n",
              "    }\n",
              "  </style>\n",
              "\n",
              "      <script>\n",
              "        const buttonEl =\n",
              "          document.querySelector('#df-d85341e3-1e7f-40fa-9e36-3ab21eac658b button.colab-df-convert');\n",
              "        buttonEl.style.display =\n",
              "          google.colab.kernel.accessAllowed ? 'block' : 'none';\n",
              "\n",
              "        async function convertToInteractive(key) {\n",
              "          const element = document.querySelector('#df-d85341e3-1e7f-40fa-9e36-3ab21eac658b');\n",
              "          const dataTable =\n",
              "            await google.colab.kernel.invokeFunction('convertToInteractive',\n",
              "                                                     [key], {});\n",
              "          if (!dataTable) return;\n",
              "\n",
              "          const docLinkHtml = 'Like what you see? Visit the ' +\n",
              "            '<a target=\"_blank\" href=https://colab.research.google.com/notebooks/data_table.ipynb>data table notebook</a>'\n",
              "            + ' to learn more about interactive tables.';\n",
              "          element.innerHTML = '';\n",
              "          dataTable['output_type'] = 'display_data';\n",
              "          await google.colab.output.renderOutput(dataTable, element);\n",
              "          const docLink = document.createElement('div');\n",
              "          docLink.innerHTML = docLinkHtml;\n",
              "          element.appendChild(docLink);\n",
              "        }\n",
              "      </script>\n",
              "    </div>\n",
              "  </div>\n",
              "  "
            ]
          },
          "metadata": {},
          "execution_count": 3
        }
      ]
    },
    {
      "cell_type": "markdown",
      "source": [
        "## Q.1) Avg charges of southwest and northwest people medical insorance"
      ],
      "metadata": {
        "id": "GnANFwhCJZBd"
      }
    },
    {
      "cell_type": "code",
      "source": [
        "charges_avg_df=data.loc[(data['region']=='southeast') | (data['region']=='northwest')]\n",
        "print('Avg charges of southwest and northwest people medical insorance ',charges_avg_df['charges'].mean())"
      ],
      "metadata": {
        "colab": {
          "base_uri": "https://localhost:8080/"
        },
        "id": "bqZOANSmIxyH",
        "outputId": "4a3bae1a-7660-4f31-94e2-8adff667375f"
      },
      "execution_count": 7,
      "outputs": [
        {
          "output_type": "stream",
          "name": "stdout",
          "text": [
            "Avg charges of southwest and northwest people medical insorance  13642.092539666186\n"
          ]
        }
      ]
    },
    {
      "cell_type": "code",
      "source": [],
      "metadata": {
        "id": "YViJprYCJkyq"
      },
      "execution_count": null,
      "outputs": []
    },
    {
      "cell_type": "markdown",
      "source": [
        "## 2) make catagories of age like kid, teenage, adult, \n",
        "old 0 to 15 = kids\n",
        "\n",
        "15 to 30 = teen\n",
        "\n",
        "30 to 50 = adult\n",
        "\n",
        "50 to 100 = old"
      ],
      "metadata": {
        "id": "baeMegoCJ-UE"
      }
    },
    {
      "cell_type": "code",
      "source": [
        "#medical_data['age_catagory']=''\n",
        "data['age_catagory']=''\n",
        "\n",
        "for i in range (len(data)):\n",
        "  checker=data.iloc[i,0]\n",
        "  if checker <= 15:\n",
        "    data.iloc[i,-1]='kid'\n",
        "\n",
        "  elif (15 < checker <= 30):\n",
        "    data.iloc[i,-1]='teen'\n",
        "\n",
        "  elif (30 < checker <= 50):\n",
        "    data.iloc[i,-1]='adult'\n",
        "\n",
        "  elif (50 < checker <= 100):\n",
        "    data.iloc[i,-1]='old'\n",
        "\n",
        "print(data)"
      ],
      "metadata": {
        "colab": {
          "base_uri": "https://localhost:8080/"
        },
        "id": "rngYbeHoKA7q",
        "outputId": "6cc6f7f5-6eea-4f10-a9f1-a5b1fe8ad85a"
      },
      "execution_count": 21,
      "outputs": [
        {
          "output_type": "stream",
          "name": "stdout",
          "text": [
            "      age     sex     bmi  children smoker     region      charges  \\\n",
            "0      19  female  27.900         0    yes  southwest  16884.92400   \n",
            "1      18    male  33.770         1     no  southeast   1725.55230   \n",
            "2      28    male  33.000         3     no  southeast   4449.46200   \n",
            "3      33    male  22.705         0     no  northwest  21984.47061   \n",
            "4      32    male  28.880         0     no  northwest   3866.85520   \n",
            "...   ...     ...     ...       ...    ...        ...          ...   \n",
            "1333   50    male  30.970         3     no  northwest  10600.54830   \n",
            "1334   18  female  31.920         0     no  northeast   2205.98080   \n",
            "1335   18  female  36.850         0     no  southeast   1629.83350   \n",
            "1336   21  female  25.800         0     no  southwest   2007.94500   \n",
            "1337   61  female  29.070         0    yes  northwest  29141.36030   \n",
            "\n",
            "     age_catagory  \n",
            "0            teen  \n",
            "1            teen  \n",
            "2            teen  \n",
            "3           adult  \n",
            "4           adult  \n",
            "...           ...  \n",
            "1333        adult  \n",
            "1334         teen  \n",
            "1335         teen  \n",
            "1336         teen  \n",
            "1337          old  \n",
            "\n",
            "[1338 rows x 8 columns]\n"
          ]
        }
      ]
    },
    {
      "cell_type": "code",
      "source": [],
      "metadata": {
        "id": "Q6pElFpcKdLi"
      },
      "execution_count": 21,
      "outputs": []
    },
    {
      "cell_type": "markdown",
      "source": [
        "## Q. 3) show male and female avg. as per catagories"
      ],
      "metadata": {
        "id": "gKaUN6tjK5uw"
      }
    },
    {
      "cell_type": "code",
      "source": [
        "#female\n",
        "# 1) kid\n",
        "test3=data.loc[(data['age_catagory']=='kid') & (data['sex']=='female')]\n",
        "print('for kid as female charges are:',test3.charges.mean())\n",
        "\n",
        "\n",
        "# 2) teen\n",
        "test3=data.loc[(data['age_catagory']=='teen') & (data['sex']=='female')]\n",
        "print('for teen as female charges are:',test3.charges.mean())\n",
        "\n",
        "# 2) adult\n",
        "test3=data.loc[(data['age_catagory']=='adult') & (data['sex']=='female')]\n",
        "print('for adult as female charges are:',test3.charges.mean())\n",
        "\n",
        "# 2) old\n",
        "test3=data.loc[(data['age_catagory']=='old') & (data['sex']=='female')]\n",
        "print('for old as female charges are:',test3.charges.mean())"
      ],
      "metadata": {
        "colab": {
          "base_uri": "https://localhost:8080/"
        },
        "id": "sKzCQEOOK8Bn",
        "outputId": "58836a47-374b-4edc-951f-4c0220039139"
      },
      "execution_count": 22,
      "outputs": [
        {
          "output_type": "stream",
          "name": "stdout",
          "text": [
            "for kid as female charges are: nan\n",
            "for teen as female charges are: 8624.223084294394\n",
            "for adult as female charges are: 12411.913281460675\n",
            "for old as female charges are: 17466.83209077348\n"
          ]
        }
      ]
    },
    {
      "cell_type": "code",
      "source": [
        "#male\n",
        "# 1) kid\n",
        "test3=data.loc[(data['age_catagory']=='kid') & (data['sex']=='male')]\n",
        "print('for kid as male charges are:',test3.charges.mean())\n",
        "\n",
        "\n",
        "# 2) teen\n",
        "test3=data.loc[(data['age_catagory']=='teen') & (data['sex']=='male')]\n",
        "print('for teen as male charges are:',test3.charges.mean())\n",
        "\n",
        "# 2) adult\n",
        "test3=data.loc[(data['age_catagory']=='adult') & (data['sex']=='male')]\n",
        "print('for adult as male charges are:',test3.charges.mean())\n",
        "\n",
        "# 2) old\n",
        "test3=data.loc[(data['age_catagory']=='old') & (data['sex']=='male')]\n",
        "print('for old as male charges are:',test3.charges.mean())"
      ],
      "metadata": {
        "colab": {
          "base_uri": "https://localhost:8080/"
        },
        "id": "ZJhbm4mTM5Wd",
        "outputId": "fe621359-6269-49f2-81ae-cfbd875d8e5f"
      },
      "execution_count": 23,
      "outputs": [
        {
          "output_type": "stream",
          "name": "stdout",
          "text": [
            "for kid as male charges are: nan\n",
            "for teen as male charges are: 10117.084220956522\n",
            "for adult as male charges are: 14136.81026708487\n",
            "for old as male charges are: 18724.33624537143\n"
          ]
        }
      ]
    },
    {
      "cell_type": "code",
      "source": [],
      "metadata": {
        "id": "TP4MFyDTNAdq"
      },
      "execution_count": null,
      "outputs": []
    },
    {
      "cell_type": "markdown",
      "source": [
        "## Q 4) show male and female count by catagories"
      ],
      "metadata": {
        "id": "h47-s4oURPl3"
      }
    },
    {
      "cell_type": "code",
      "source": [
        "male=data.loc[(data['sex']=='male')]\n",
        "print('#Male count as per age catagories:\\n',male.age_catagory.value_counts())\n",
        "\n",
        "\n",
        "\n",
        "female=data.loc[(data['sex']=='female')]\n",
        "print('\\n#female count as per age catagories:\\n',female.age_catagory.value_counts())"
      ],
      "metadata": {
        "colab": {
          "base_uri": "https://localhost:8080/"
        },
        "id": "c4Edin6eRXm3",
        "outputId": "1724dca7-81aa-4d9b-b260-0bb05f5b4561"
      },
      "execution_count": 28,
      "outputs": [
        {
          "output_type": "stream",
          "name": "stdout",
          "text": [
            "#Male count as per age catagories:\n",
            " adult    271\n",
            "teen     230\n",
            "old      175\n",
            "Name: age_catagory, dtype: int64\n",
            "\n",
            "#female count as per age catagories:\n",
            " adult    267\n",
            "teen     214\n",
            "old      181\n",
            "Name: age_catagory, dtype: int64\n"
          ]
        }
      ]
    },
    {
      "cell_type": "code",
      "source": [],
      "metadata": {
        "id": "aOhEHCIKRRZA"
      },
      "execution_count": null,
      "outputs": []
    },
    {
      "cell_type": "markdown",
      "source": [
        "## Q 5) show adult and old age peoples bmi of smokers only"
      ],
      "metadata": {
        "id": "K8lwW557SQcd"
      }
    },
    {
      "cell_type": "code",
      "source": [
        "test5=data.loc[((data['age_catagory']=='adult') | (data['age_catagory']=='adult')) & (data['smoker']=='yes')]\n",
        "print(test5.to_string())\n",
        "\n",
        "print('BMI of adult and old catagory people, who are smokers only:\\n',test5['bmi'].to_string())"
      ],
      "metadata": {
        "colab": {
          "base_uri": "https://localhost:8080/"
        },
        "id": "rQpP3T6iSRky",
        "outputId": "5732bd2d-cc65-4938-9d60-edc37241e7bf"
      },
      "execution_count": 35,
      "outputs": [
        {
          "output_type": "stream",
          "name": "stdout",
          "text": [
            "      age     sex     bmi  children smoker     region      charges age_catagory\n",
            "23     34  female  31.920         1    yes  northeast  37701.87680        adult\n",
            "29     31    male  36.300         2    yes  southwest  38711.00000        adult\n",
            "38     35    male  36.670         1    yes  northeast  39774.27630        adult\n",
            "49     36    male  35.200         1    yes  southeast  38709.17600        adult\n",
            "52     48    male  28.000         1    yes  southwest  23568.27200        adult\n",
            "53     36    male  34.430         0    yes  southeast  37742.57570        adult\n",
            "84     37  female  34.800         2    yes  southwest  39836.51900        adult\n",
            "85     45    male  22.895         2    yes  northwest  21098.55405        adult\n",
            "99     38    male  19.300         0    yes  southwest  15820.69900        adult\n",
            "123    44    male  31.350         1    yes  northeast  39556.49450        adult\n",
            "128    32  female  17.765         2    yes  northwest  32734.18630        adult\n",
            "142    34    male  25.300         2    yes  southeast  18972.49500        adult\n",
            "146    46    male  30.495         3    yes  northwest  40720.55105        adult\n",
            "153    42  female  23.370         0    yes  northeast  19964.74630        adult\n",
            "156    48    male  24.420         0    yes  southeast  21223.67580        adult\n",
            "160    42  female  26.600         0    yes  northwest  21348.70600        adult\n",
            "185    36    male  41.895         3    yes  northeast  43753.33705        adult\n",
            "207    35    male  27.740         2    yes  northeast  20984.09360        adult\n",
            "224    42    male  24.640         0    yes  southeast  19515.54160        adult\n",
            "235    40  female  22.220         2    yes  southeast  19444.26580        adult\n",
            "254    50    male  31.825         0    yes  northeast  41097.16175        adult\n",
            "265    46    male  42.350         3    yes  southeast  46151.12450        adult\n",
            "266    40    male  19.800         1    yes  southeast  17179.52200        adult\n",
            "271    50    male  34.200         2    yes  southwest  42856.83800        adult\n",
            "280    40  female  28.120         1    yes  northeast  22331.56680        adult\n",
            "297    47    male  25.410         1    yes  southeast  21978.67690        adult\n",
            "298    31    male  34.390         3    yes  northwest  38746.35510        adult\n",
            "312    43    male  35.970         3    yes  southeast  42124.51530        adult\n",
            "322    34    male  30.800         0    yes  southwest  35491.64000        adult\n",
            "327    45    male  36.480         2    yes  northwest  42760.50220        adult\n",
            "338    50    male  32.300         1    yes  northeast  41919.09700        adult\n",
            "376    39  female  24.890         3    yes  northeast  21659.93010        adult\n",
            "411    44  female  20.235         1    yes  northeast  19594.80965        adult\n",
            "417    36  female  22.600         2    yes  southwest  18608.26200        adult\n",
            "422    40    male  32.775         1    yes  northeast  39125.33225        adult\n",
            "441    33  female  33.500         0    yes  southwest  37079.37200        adult\n",
            "461    42    male  30.000         0    yes  southwest  22144.03200        adult\n",
            "488    44  female  38.060         0    yes  southeast  48885.13561        adult\n",
            "514    39    male  28.300         1    yes  southwest  21082.16000        adult\n",
            "524    42    male  26.070         1    yes  southeast  38245.59327        adult\n",
            "545    49    male  25.840         2    yes  northwest  23807.24060        adult\n",
            "549    43  female  46.200         0    yes  southeast  45863.20500        adult\n",
            "558    35  female  34.105         3    yes  northwest  39983.42595        adult\n",
            "569    48    male  40.565         2    yes  northwest  45702.02235        adult\n",
            "577    31  female  38.095         1    yes  northeast  58571.07448        adult\n",
            "587    34  female  30.210         1    yes  northwest  43943.87610        adult\n",
            "615    47  female  36.630         1    yes  southeast  42969.85270        adult\n",
            "617    49    male  25.600         2    yes  southwest  23306.54700        adult\n",
            "621    37    male  34.100         4    yes  southwest  40182.24600        adult\n",
            "629    44  female  38.950         0    yes  northwest  42983.45850        adult\n",
            "638    39    male  26.410         0    yes  northeast  20149.32290        adult\n",
            "641    42    male  28.310         3    yes  northwest  32787.45859        adult\n",
            "665    43    male  38.060         2    yes  southeast  42560.43040        adult\n",
            "667    40  female  32.775         2    yes  northwest  40003.33225        adult\n",
            "674    44  female  43.890         2    yes  southeast  46200.98510        adult\n",
            "682    39    male  35.300         2    yes  southwest  40103.89000        adult\n",
            "697    41    male  35.750         1    yes  southeast  40273.64550        adult\n",
            "730    35    male  24.420         3    yes  southeast  19361.99880        adult\n",
            "736    37  female  38.390         0    yes  southeast  40419.01910        adult\n",
            "750    37  female  26.400         0    yes  southeast  19539.24300        adult\n",
            "757    47  female  27.830         0    yes  southeast  23065.42070        adult\n",
            "762    33    male  27.100         1    yes  southwest  19040.87600        adult\n",
            "783    50  female  27.600         1    yes  southwest  24520.26400        adult\n",
            "799    33    male  24.795         0    yes  northeast  17904.52705        adult\n",
            "818    47  female  26.125         1    yes  northeast  23401.30575        adult\n",
            "819    33  female  35.530         0    yes  northwest  55135.40209        adult\n",
            "827    36    male  28.025         1    yes  northeast  20773.62775        adult\n",
            "828    41    male  30.780         3    yes  northeast  39597.40720        adult\n",
            "850    37  female  30.780         0    yes  northeast  37270.15120        adult\n",
            "852    46  female  35.530         0    yes  northeast  42111.66470        adult\n",
            "854    49  female  23.845         3    yes  northeast  24106.91255        adult\n",
            "856    48  female  33.110         0    yes  southeast  40974.16490        adult\n",
            "860    37  female  47.600         2    yes  southwest  46113.51100        adult\n",
            "885    32    male  28.930         1    yes  southeast  19719.69470        adult\n",
            "893    47    male  38.940         2    yes  southeast  44202.65360        adult\n",
            "896    43  female  20.045         2    yes  northeast  19798.05455        adult\n",
            "909    32  female  24.600         0    yes  southwest  17496.30600        adult\n",
            "916    43  female  26.885         0    yes  northwest  21774.32215        adult\n",
            "917    45    male  22.895         0    yes  northeast  35069.37452        adult\n",
            "947    37    male  34.200         1    yes  northeast  39047.28500        adult\n",
            "953    44    male  30.200         2    yes  southwest  38998.54600        adult\n",
            "954    34    male  27.835         1    yes  northwest  20009.63365        adult\n",
            "958    43    male  34.960         1    yes  northeast  41034.22140        adult\n",
            "982    31    male  25.900         3    yes  southwest  19199.94400        adult\n",
            "1007   47    male  28.215         3    yes  northwest  24915.22085        adult\n",
            "1011   43    male  20.130         2    yes  southeast  18767.73770        adult\n",
            "1022   47    male  36.080         1    yes  southeast  42211.13820        adult\n",
            "1030   46  female  23.655         1    yes  northwest  21677.28345        adult\n",
            "1037   45  female  30.495         1    yes  northwest  39725.51805        adult\n",
            "1040   35  female  28.025         0    yes  northwest  20234.85475        adult\n",
            "1045   43  female  24.700         2    yes  northwest  21880.82000        adult\n",
            "1049   49    male  30.900         0    yes  southwest  39727.61400        adult\n",
            "1053   47    male  29.800         3    yes  southwest  25309.48900        adult\n",
            "1070   37    male  37.070         1    yes  southeast  39871.70430        adult\n",
            "1085   39  female  18.300         5    yes  southwest  19023.26000        adult\n",
            "1090   47    male  36.190         0    yes  southeast  41676.08110        adult\n",
            "1100   33  female  19.095         2    yes  northeast  16776.30405        adult\n",
            "1111   38    male  38.390         3    yes  southeast  41949.24410        adult\n",
            "1112   48  female  25.850         3    yes  southeast  24180.93350        adult\n",
            "1118   33    male  35.750         1    yes  southeast  38282.74950        adult\n",
            "1152   43  female  32.560         3    yes  southeast  40941.28540        adult\n",
            "1171   43  female  26.700         2    yes  southwest  22478.60000        adult\n",
            "1179   31    male  29.810         0    yes  southeast  19350.36890        adult\n",
            "1188   43  female  25.270         1    yes  northeast  21771.34230        adult\n",
            "1207   36    male  33.400         2    yes  southwest  38415.47400        adult\n",
            "1208   37  female  25.555         1    yes  northeast  20296.86345        adult\n",
            "1218   46  female  34.600         1    yes  southwest  41661.60200        adult\n",
            "1249   32    male  33.630         1    yes  northeast  37607.52770        adult\n",
            "1278   39    male  29.925         1    yes  northeast  22462.04375        adult\n",
            "1281   47  female  27.645         2    yes  northwest  24535.69855        adult\n",
            "1300   45    male  30.360         0    yes  southeast  62592.87309        adult\n",
            "1303   43    male  27.800         0    yes  southwest  37829.72420        adult\n",
            "1304   42    male  24.605         2    yes  northeast  21259.37795        adult\n",
            "1307   32    male  28.120         4    yes  northwest  21472.47880        adult\n",
            "1323   42  female  40.370         2    yes  southeast  43896.37630        adult\n",
            "BMI of adult and old catagory people, who are smokers only:\n",
            " 23      31.920\n",
            "29      36.300\n",
            "38      36.670\n",
            "49      35.200\n",
            "52      28.000\n",
            "53      34.430\n",
            "84      34.800\n",
            "85      22.895\n",
            "99      19.300\n",
            "123     31.350\n",
            "128     17.765\n",
            "142     25.300\n",
            "146     30.495\n",
            "153     23.370\n",
            "156     24.420\n",
            "160     26.600\n",
            "185     41.895\n",
            "207     27.740\n",
            "224     24.640\n",
            "235     22.220\n",
            "254     31.825\n",
            "265     42.350\n",
            "266     19.800\n",
            "271     34.200\n",
            "280     28.120\n",
            "297     25.410\n",
            "298     34.390\n",
            "312     35.970\n",
            "322     30.800\n",
            "327     36.480\n",
            "338     32.300\n",
            "376     24.890\n",
            "411     20.235\n",
            "417     22.600\n",
            "422     32.775\n",
            "441     33.500\n",
            "461     30.000\n",
            "488     38.060\n",
            "514     28.300\n",
            "524     26.070\n",
            "545     25.840\n",
            "549     46.200\n",
            "558     34.105\n",
            "569     40.565\n",
            "577     38.095\n",
            "587     30.210\n",
            "615     36.630\n",
            "617     25.600\n",
            "621     34.100\n",
            "629     38.950\n",
            "638     26.410\n",
            "641     28.310\n",
            "665     38.060\n",
            "667     32.775\n",
            "674     43.890\n",
            "682     35.300\n",
            "697     35.750\n",
            "730     24.420\n",
            "736     38.390\n",
            "750     26.400\n",
            "757     27.830\n",
            "762     27.100\n",
            "783     27.600\n",
            "799     24.795\n",
            "818     26.125\n",
            "819     35.530\n",
            "827     28.025\n",
            "828     30.780\n",
            "850     30.780\n",
            "852     35.530\n",
            "854     23.845\n",
            "856     33.110\n",
            "860     47.600\n",
            "885     28.930\n",
            "893     38.940\n",
            "896     20.045\n",
            "909     24.600\n",
            "916     26.885\n",
            "917     22.895\n",
            "947     34.200\n",
            "953     30.200\n",
            "954     27.835\n",
            "958     34.960\n",
            "982     25.900\n",
            "1007    28.215\n",
            "1011    20.130\n",
            "1022    36.080\n",
            "1030    23.655\n",
            "1037    30.495\n",
            "1040    28.025\n",
            "1045    24.700\n",
            "1049    30.900\n",
            "1053    29.800\n",
            "1070    37.070\n",
            "1085    18.300\n",
            "1090    36.190\n",
            "1100    19.095\n",
            "1111    38.390\n",
            "1112    25.850\n",
            "1118    35.750\n",
            "1152    32.560\n",
            "1171    26.700\n",
            "1179    29.810\n",
            "1188    25.270\n",
            "1207    33.400\n",
            "1208    25.555\n",
            "1218    34.600\n",
            "1249    33.630\n",
            "1278    29.925\n",
            "1281    27.645\n",
            "1300    30.360\n",
            "1303    27.800\n",
            "1304    24.605\n",
            "1307    28.120\n",
            "1323    40.370\n"
          ]
        }
      ]
    },
    {
      "cell_type": "code",
      "source": [],
      "metadata": {
        "id": "BTXXrFCITOlK"
      },
      "execution_count": null,
      "outputs": []
    },
    {
      "cell_type": "markdown",
      "source": [
        "## Q 6) Show people whose charges less than 20000 those are doing smoking daily"
      ],
      "metadata": {
        "id": "rOiEh2DRT6Oj"
      }
    },
    {
      "cell_type": "code",
      "source": [
        "test6=data.loc[(data['charges']<20000) & (data['smoker']=='yes')]\n",
        "print(test6.to_string())"
      ],
      "metadata": {
        "colab": {
          "base_uri": "https://localhost:8080/"
        },
        "id": "PimxURWsT-VF",
        "outputId": "a6df80e9-568f-4744-a0f0-e48ebd37dcd9"
      },
      "execution_count": 34,
      "outputs": [
        {
          "output_type": "stream",
          "name": "stdout",
          "text": [
            "      age     sex     bmi  children smoker     region      charges age_catagory\n",
            "0      19  female  27.900         0    yes  southwest  16884.92400         teen\n",
            "64     20  female  22.420         0    yes  northwest  14711.74380         teen\n",
            "69     28    male  23.980         3    yes  southeast  17663.14420         teen\n",
            "70     27  female  24.750         0    yes  southeast  16577.77950         teen\n",
            "99     38    male  19.300         0    yes  southwest  15820.69900        adult\n",
            "105    20    male  28.025         1    yes  northwest  17560.37975         teen\n",
            "117    29  female  27.940         1    yes  southeast  19107.77960         teen\n",
            "126    19  female  28.300         0    yes  southwest  17081.08000         teen\n",
            "142    34    male  25.300         2    yes  southeast  18972.49500        adult\n",
            "153    42  female  23.370         0    yes  northeast  19964.74630        adult\n",
            "157    18    male  25.175         0    yes  northeast  15518.18025         teen\n",
            "224    42    male  24.640         0    yes  southeast  19515.54160        adult\n",
            "235    40  female  22.220         2    yes  southeast  19444.26580        adult\n",
            "238    19    male  29.070         0    yes  northwest  17352.68030         teen\n",
            "250    18    male  17.290         2    yes  northeast  12829.45510         teen\n",
            "261    20  female  26.840         1    yes  southeast  17085.26760         teen\n",
            "266    40    male  19.800         1    yes  southeast  17179.52200        adult\n",
            "296    19    male  27.700         0    yes  southwest  16297.84600         teen\n",
            "362    19  female  21.700         0    yes  southwest  13844.50600         teen\n",
            "375    23  female  28.310         0    yes  northwest  18033.96790         teen\n",
            "380    27  female  17.955         2    yes  northeast  15006.57945         teen\n",
            "411    44  female  20.235         1    yes  northeast  19594.80965        adult\n",
            "412    26  female  17.195         2    yes  northeast  14455.64405         teen\n",
            "417    36  female  22.600         2    yes  southwest  18608.26200        adult\n",
            "465    30  female  28.380         1    yes  southeast  19521.96820         teen\n",
            "494    21    male  25.700         4    yes  southwest  17942.10600         teen\n",
            "593    21  female  21.850         1    yes  northeast  15359.10450         teen\n",
            "604    19  female  28.310         0    yes  northwest  17468.98390         teen\n",
            "727    29  female  21.755         1    yes  northeast  16657.71745         teen\n",
            "730    35    male  24.420         3    yes  southeast  19361.99880        adult\n",
            "741    27    male  29.150         0    yes  southeast  18246.49550         teen\n",
            "750    37  female  26.400         0    yes  southeast  19539.24300        adult\n",
            "762    33    male  27.100         1    yes  southwest  19040.87600        adult\n",
            "773    19  female  28.880         0    yes  northwest  17748.50620         teen\n",
            "780    30    male  24.400         3    yes  southwest  18259.21600         teen\n",
            "795    27    male  28.500         0    yes  northwest  18310.74200         teen\n",
            "799    33    male  24.795         0    yes  northeast  17904.52705        adult\n",
            "857    25    male  24.130         0    yes  northwest  15817.98570         teen\n",
            "885    32    male  28.930         1    yes  southeast  19719.69470        adult\n",
            "896    43  female  20.045         2    yes  northeast  19798.05455        adult\n",
            "909    32  female  24.600         0    yes  southwest  17496.30600        adult\n",
            "949    25    male  29.700         3    yes  southwest  19933.45800         teen\n",
            "975    29    male  22.895         0    yes  northeast  16138.76205         teen\n",
            "982    31    male  25.900         3    yes  southwest  19199.94400        adult\n",
            "989    24  female  20.520         0    yes  northeast  14571.89080         teen\n",
            "994    27  female  20.045         3    yes  northwest  16420.49455         teen\n",
            "1000   30    male  22.990         2    yes  northwest  17361.76610         teen\n",
            "1011   43    male  20.130         2    yes  southeast  18767.73770        adult\n",
            "1026   19    male  26.030         1    yes  northwest  16450.89470         teen\n",
            "1033   18    male  21.565         0    yes  northeast  13747.87235         teen\n",
            "1085   39  female  18.300         5    yes  southwest  19023.26000        adult\n",
            "1100   33  female  19.095         2    yes  northeast  16776.30405        adult\n",
            "1170   18    male  27.360         1    yes  northeast  17178.68240         teen\n",
            "1179   31    male  29.810         0    yes  southeast  19350.36890        adult\n",
            "1184   23  female  28.490         1    yes  southeast  18328.23810         teen\n",
            "1204   18  female  27.280         3    yes  southeast  18223.45120         teen\n",
            "1250   24    male  29.830         0    yes  northeast  18648.42170         teen\n",
            "1252   20    male  27.300         0    yes  southwest  16232.84700         teen\n",
            "1274   26    male  27.060         0    yes  southeast  17043.34140         teen\n",
            "1282   18  female  21.660         0    yes  northeast  14283.45940         teen\n",
            "1306   29  female  21.850         0    yes  northeast  16115.30450         teen\n",
            "1314   30  female  23.655         3    yes  northwest  18765.87545         teen\n"
          ]
        }
      ]
    },
    {
      "cell_type": "code",
      "source": [],
      "metadata": {
        "id": "kSejgbDvUWw6"
      },
      "execution_count": null,
      "outputs": []
    }
  ]
}